{
 "cells": [
  {
   "cell_type": "code",
   "execution_count": null,
   "id": "0a4f4b56",
   "metadata": {},
   "outputs": [],
   "source": [
    "import pyarrow as pa\n",
    "import pyarrow.parquet as pq\n",
    "import pandas as pd\n",
    "import numpy as np\n",
    "\n",
    "from pathlib import Path\n",
    "from datetime import datetime, timedelta"
   ]
  },
  {
   "cell_type": "code",
   "execution_count": null,
   "id": "9b01091a",
   "metadata": {},
   "outputs": [],
   "source": [
    "inlin_etst_root = \"C:/Users/eander2/PycharmProjects/WaferInsights/data/inline_etest\"\n",
    "efiles = [str(x) for x in Path(inlin_etst_root).glob(\"**/*.parquet\")]"
   ]
  },
  {
   "cell_type": "code",
   "execution_count": null,
   "id": "b9b1d4b4",
   "metadata": {},
   "outputs": [],
   "source": [
    "df = pd.read_parquet(efiles[0]).reset_index()"
   ]
  },
  {
   "cell_type": "code",
   "execution_count": null,
   "id": "b4844e7f-b9f9-48bf-90ab-9a1019762cd1",
   "metadata": {},
   "outputs": [],
   "source": [
    "def load_filtered_data(path, shortdevice='8PTP', mindate = ):\n",
    "    df = pd.read_parquet(path).reset_index()\n",
    "    df = df[df['SHORTDEVICE']==shortdevice]\n",
    "    return df\n",
    "\n",
    "ets = pd.concat([load_filtered_data(path) for path in efiles])"
   ]
  },
  {
   "cell_type": "code",
   "execution_count": null,
   "id": "2ba49961-650e-4d1a-8675-fcd6cc53eace",
   "metadata": {},
   "outputs": [],
   "source": [
    "ets.head()"
   ]
  },
  {
   "cell_type": "code",
   "execution_count": null,
   "id": "13b90480-a0d1-4143-a4ba-a19536b6e709",
   "metadata": {},
   "outputs": [],
   "source": [
    "ets.to_parquet(\"ets.parquet\")"
   ]
  },
  {
   "cell_type": "code",
   "execution_count": null,
   "id": "8e23367f",
   "metadata": {},
   "outputs": [],
   "source": [
    "parametric_root = \"C:/Users/eander2/PycharmProjects/WaferInsights/data/sort_parametric\""
   ]
  },
  {
   "cell_type": "code",
   "execution_count": null,
   "id": "21f93f8b-20bb-4284-8956-3cdb172d8533",
   "metadata": {},
   "outputs": [],
   "source": [
    "eps_files = [str(x) for x in Path(parametric_root).glob(\"**/*.parquet\")]"
   ]
  },
  {
   "cell_type": "code",
   "execution_count": null,
   "id": "3bddf95f-2c91-4f1a-8cb6-54205e1aa546",
   "metadata": {},
   "outputs": [],
   "source": [
    "pdf = pd.concat([load_filtered_data(path) for path in eps_files])"
   ]
  },
  {
   "cell_type": "code",
   "execution_count": null,
   "id": "9ce8fb48-edda-4aa3-acd8-b6af41c15db1",
   "metadata": {},
   "outputs": [],
   "source": [
    "pdf['OPERATION'].unique()"
   ]
  },
  {
   "cell_type": "code",
   "execution_count": null,
   "id": "2d8e3a7f-e90e-497b-b3b8-46d6b70a3506",
   "metadata": {},
   "outputs": [],
   "source": [
    "pdf = pdf[pdf['OPERATION'] == '132110']"
   ]
  },
  {
   "cell_type": "code",
   "execution_count": null,
   "id": "670b30f2-7df7-4bad-a7ec-615166f4029d",
   "metadata": {},
   "outputs": [],
   "source": [
    "pdf.head()"
   ]
  },
  {
   "cell_type": "code",
   "execution_count": null,
   "id": "82619062-cfdc-4107-8742-39ec7666db6a",
   "metadata": {},
   "outputs": [],
   "source": [
    "for col in ets.columns:\n",
    "    if str.isnumeric(col[:6]):\n",
    "        print(col)\n"
   ]
  },
  {
   "cell_type": "code",
   "execution_count": null,
   "id": "1ef90155-45a4-4762-bb51-47ca0c503ab3",
   "metadata": {},
   "outputs": [],
   "source": []
  }
 ],
 "metadata": {
  "kernelspec": {
   "display_name": "Python 3 (ipykernel)",
   "language": "python",
   "name": "python3"
  },
  "language_info": {
   "codemirror_mode": {
    "name": "ipython",
    "version": 3
   },
   "file_extension": ".py",
   "mimetype": "text/x-python",
   "name": "python",
   "nbconvert_exporter": "python",
   "pygments_lexer": "ipython3",
   "version": "3.10.4"
  }
 },
 "nbformat": 4,
 "nbformat_minor": 5
}
