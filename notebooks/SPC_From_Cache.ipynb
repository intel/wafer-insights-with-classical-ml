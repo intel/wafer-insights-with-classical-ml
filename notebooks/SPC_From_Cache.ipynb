{
 "cells": [
  {
   "cell_type": "code",
   "execution_count": null,
   "id": "1c23c827-3c5b-4685-9810-ddce23655c31",
   "metadata": {},
   "outputs": [],
   "source": [
    "import pyarrow as pa\n",
    "import pyarrow.parquet as pq\n",
    "import pandas as pd\n",
    "import numpy as np"
   ]
  },
  {
   "cell_type": "code",
   "execution_count": null,
   "id": "162dacd1-c61b-4297-b0a6-55e69757b58f",
   "metadata": {},
   "outputs": [],
   "source": [
    "device = '8PFU'\n",
    "from datetime import datetime, timedelta\n",
    "from timeit import default_timer as dt\n",
    "# from sort_parametrics import get_loaded_tokens, get_loaded_operations\n",
    "# tokens = get_loaded_tokens(sort_parametric_path, device)\n",
    "# ops = get_loaded_operations(sort_parametric_path, device)\n",
    "# print(tokens, ops)\n",
    "# fmax_operation = 132110\n",
    "# sicc_operation = 132110\n",
    "start = dt()\n",
    "# end = start - timedelta(days=15)\n",
    "\n",
    "\n",
    "# load_sort_parametric(sort_parametric_path, device, start, end, fmax_operation, sicc_operation)\n",
    "lots = ['L150538', 'L201545', 'L202130', 'L203149']\n",
    "\n",
    "tfilter =[('LOT7', 'in', lots)]\n",
    "\n",
    "ds = pq.ParquetDataset(\"../data/inline_spc\",\n",
    "                       filters = tfilter)\n",
    "\n",
    "t = ds.read()\n",
    "df = t.to_pandas()\n",
    "lot7s = df['LOT7'].unique().tolist()\n",
    "print(lot7s)\n",
    "print(df.head())\n",
    "print(df.shape)\n",
    "\n",
    "#vals = load_etest_by_lotlist(etest_path, lot7s, ['117113'])\n",
    "\n",
    "\n",
    "end = dt()\n",
    "\n",
    "print(f\"took {end - start} seconds to query {df.shape[0]} rows\")"
   ]
  },
  {
   "cell_type": "code",
   "execution_count": null,
   "id": "25ccd358-6329-437d-83ed-90a8f648afd1",
   "metadata": {},
   "outputs": [],
   "source": [
    "df.columns"
   ]
  },
  {
   "cell_type": "code",
   "execution_count": null,
   "id": "e99ec217-1474-4d48-a77c-cecbc700f4a3",
   "metadata": {},
   "outputs": [],
   "source": [
    "df['colnames'] = df['SPC_OPERATION'] + \"`\" + df['MONITOR_SET_NAME'] + \"`\" + df['MEASUREMENT_SET_NAME'] + \"`\" + df['CHART_PARAMETER'] + \"`\" + df['PARAMETER_CLASS']"
   ]
  },
  {
   "cell_type": "code",
   "execution_count": null,
   "id": "fd412f53-9269-445f-a180-65a56e04f48d",
   "metadata": {},
   "outputs": [],
   "source": [
    "f = df.groupby(['LOT7', 'colnames']).size()"
   ]
  },
  {
   "cell_type": "code",
   "execution_count": null,
   "id": "4e96e7a3-456b-40eb-8b43-20ee2c1b86cf",
   "metadata": {},
   "outputs": [],
   "source": []
  },
  {
   "cell_type": "code",
   "execution_count": null,
   "id": "d06f9173-418a-483f-a82b-84d87a958f49",
   "metadata": {},
   "outputs": [],
   "source": [
    "len(f[f>0])/len(f)"
   ]
  }
 ],
 "metadata": {
  "kernelspec": {
   "display_name": "Python 3 (ipykernel)",
   "language": "python",
   "name": "python3"
  },
  "language_info": {
   "codemirror_mode": {
    "name": "ipython",
    "version": 3
   },
   "file_extension": ".py",
   "mimetype": "text/x-python",
   "name": "python",
   "nbconvert_exporter": "python",
   "pygments_lexer": "ipython3",
   "version": "3.10.4"
  }
 },
 "nbformat": 4,
 "nbformat_minor": 5
}
