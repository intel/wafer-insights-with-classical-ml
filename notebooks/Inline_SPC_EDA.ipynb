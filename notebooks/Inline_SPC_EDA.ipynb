{
 "cells": [
  {
   "cell_type": "code",
   "execution_count": null,
   "id": "b3299541-8fc6-45de-8325-72bc8650fcf4",
   "metadata": {},
   "outputs": [],
   "source": [
    "import pandas as pd\n",
    "import numpy as np\n",
    "import PyUber"
   ]
  },
  {
   "cell_type": "code",
   "execution_count": null,
   "id": "6490676c-58b1-430c-ab45-034dfd95330e",
   "metadata": {},
   "outputs": [],
   "source": [
    "sql = r\"\"\"SELECT \n",
    "          a0.lot7 AS lot7\n",
    "         ,a0.devrevstep AS devrevstep\n",
    "         ,(SELECT lrc99.last_pass FROM F_LOT_RUN_CARD lrc99 where lrc99.lot =a0.lot AND lrc99.operation = a0.operation AND lrc99.site_prevout_date=a0.prev_moveout_time and rownum<=1) AS last_pass\n",
    "         ,a0.rework_latest_flag AS rework_latest_flag\n",
    "         ,a0.lot_rework_flag AS rework_flag\n",
    "         ,a1.entity AS entity\n",
    "         ,a1.ceid AS ceid\n",
    "         ,a2.monitor_set_name AS monitor_set_name\n",
    "         ,To_Char(a2.data_collection_time,'yyyy-mm-dd hh24:mi:ss') AS data_collect_date\n",
    "         ,a2.area AS area\n",
    "         ,a2.monitor_process AS monitor_process\n",
    "         ,a2.status AS mon_set_status\n",
    "         ,a2.spc_data_id AS spc_data_id\n",
    "         ,a2.violation_flag AS violation_flag\n",
    "         ,a2.latest_flag AS mon_set_latest_flag\n",
    "         ,a5.chart_point_seq AS chart_point_seq\n",
    "         ,a5.value AS chart_value\n",
    "         ,a5.process_chamber AS process_chamber\n",
    "         ,a5.wafer AS chart_wafer\n",
    "         ,a5.latest_flag AS chart_pt_latest_flag\n",
    "         ,a5.status AS chart_pt_status\n",
    "         ,a5.chart_type AS chart_type\n",
    "         ,a5.spc_chart_category AS spc_chart_category\n",
    "         ,a5.spc_chart_subset AS spc_chart_subset\n",
    "         ,a10.lo_control_lmt AS lo_control_lmt\n",
    "         ,a10.target AS target\n",
    "         ,a10.up_control_lmt AS up_control_lmt\n",
    "         ,a2.test_name AS test_name\n",
    "         ,a0.operation AS spc_operation\n",
    "         ,a5.wafer3 AS chart_wafer3\n",
    "         ,a2.monitor_type AS monitor_type\n",
    "         ,a3.parameter_class AS parameter_class\n",
    "         ,a9.chart_parameter AS chart_parameter\n",
    "         ,a9.chart_on AS chart_on\n",
    "         ,a3.measurement_set_name AS measurement_set_name\n",
    "         ,a11.\n",
    "FROM \n",
    "P_SPC_LOT a0\n",
    "LEFT JOIN P_SPC_ENTITY a1 ON a1.spcs_id = a0.spcs_id AND a1.entity_sequence=1\n",
    "INNER JOIN P_SPC_SESSION a2 ON a2.spcs_id = a0.spcs_id AND a2.data_collection_time = a0.data_collection_time\n",
    "INNER JOIN P_SPC_MEASUREMENT_SET a3 ON a3.spcs_id = a2.spcs_id\n",
    "LEFT JOIN P_SPC_CHART_POINT a5 ON a5.spcs_id = a3.spcs_id AND a5.measurement_set_name = a3.measurement_set_name\n",
    "LEFT JOIN P_SPC_CHART a9 ON a9.chart_id = a5.chart_id\n",
    "LEFT JOIN P_SPC_CHART_LIMIT a10 ON a10.chart_id = a5.chart_id AND a10.limit_id = a5.limit_id\n",
    "LEFT JOIN P_SPC_CHARTPOINT_MEASUREMENT a11 ON a11.sps_it == a11.sps_id and a11.measurement_set_name == a4.measurement_set_name\n",
    "WHERE\n",
    "              a0.lot7 = 'L210060' \n",
    " AND      (SELECT lrc99.last_pass FROM F_LOT_RUN_CARD lrc99 where lrc99.lot =a0.lot AND lrc99.operation = a0.operation AND lrc99.site_prevout_date=a0.prev_moveout_time and rownum<=1) = 'Y' \n",
    " AND      a0.rework_latest_flag = 'Y' \n",
    " AND      a3.valid_flag <> 'I' \n",
    " AND      a5.latest_flag = 'Y' \n",
    " AND      a3.latest_flag = 'Y' \n",
    " AND      a5.value is not NULL\"\"\""
   ]
  },
  {
   "cell_type": "code",
   "execution_count": null,
   "id": "3edbe2a2-2aa2-4a35-abd4-5e8812fcf7c8",
   "metadata": {},
   "outputs": [],
   "source": [
    "sql2 = \"\"\"\n",
    "SELECT \n",
    "          a0.lot7 AS lot7\n",
    "         ,a0.lot_type AS lot_type\n",
    "         ,a0.lot_virtual_line AS lot_virtual_line\n",
    "         ,a0.operation AS spc_operation\n",
    "         ,a0.devrevstep AS devrevstep\n",
    "         ,To_Char(a0.data_collection_time,'yyyy-mm-dd hh24:mi:ss') AS lot_data_collect_date\n",
    "         ,a1.entity AS entity\n",
    "         ,To_Char(a1.data_collection_time,'yyyy-mm-dd hh24:mi:ss') AS entity_data_collect_date\n",
    "         ,a1.entity_sequence AS entity_sequence\n",
    "         ,a2.monitor_set_name AS monitor_set_name\n",
    "         ,a3.measurement_set_name AS measurement_set_name\n",
    "         ,a2.test_name AS test_name\n",
    "         ,a2.spc_data_id AS spc_data_id\n",
    "         ,a5.chart_type AS chart_type\n",
    "         ,a5.spc_chart_category AS spc_chart_category\n",
    "         ,a5.spc_chart_subset AS spc_chart_subset\n",
    "         ,a5.value AS chart_value\n",
    "FROM \n",
    "P_SPC_LOT a0\n",
    "LEFT JOIN P_SPC_ENTITY a1 ON a1.spcs_id = a0.spcs_id AND a1.entity_sequence=1\n",
    "INNER JOIN P_SPC_SESSION a2 ON a2.spcs_id = a0.spcs_id AND a2.data_collection_time = a0.data_collection_time\n",
    "INNER JOIN P_SPC_MEASUREMENT_SET a3 ON a3.spcs_id = a2.spcs_id\n",
    "LEFT JOIN P_SPC_CHART_POINT a5 ON a5.spcs_id = a3.spcs_id AND a5.measurement_set_name = a3.measurement_set_name\n",
    "WHERE\n",
    "              (SELECT lrc99.last_pass FROM F_LOT_RUN_CARD lrc99 where lrc99.lot =a0.lot AND lrc99.operation = a0.operation AND lrc99.site_prevout_date=a0.prev_moveout_time and rownum<=1) = 'Y' \n",
    " AND      a3.latest_flag = 'Y' \n",
    " AND      a5.latest_flag = 'Y' \n",
    " AND      a0.data_collection_time >= (SYSDATE - 5/24) \n",
    " AND      a0.lot Like 'L%' \"\"\""
   ]
  },
  {
   "cell_type": "code",
   "execution_count": null,
   "id": "ba1b6ebf-9912-4eaf-b695-f7b513402d5b",
   "metadata": {},
   "outputs": [],
   "source": [
    "con = PyUber.connect(\"F32_PROD_XEUS\")"
   ]
  },
  {
   "cell_type": "code",
   "execution_count": null,
   "id": "b2a179d8-d076-4269-972d-c67eb96bcf68",
   "metadata": {},
   "outputs": [],
   "source": [
    "df = pd.read_sql(sql, con)"
   ]
  },
  {
   "cell_type": "code",
   "execution_count": null,
   "id": "11e40337-07a9-4111-adf2-e851e8613347",
   "metadata": {},
   "outputs": [],
   "source": [
    "df = df[df['MONITOR_TYPE'] == \"WIP MONITOR\"]\n"
   ]
  },
  {
   "cell_type": "code",
   "execution_count": null,
   "id": "e8768e04-cf19-4871-970a-bedcf57f4fab",
   "metadata": {},
   "outputs": [],
   "source": [
    "df['CHART_WAFER3'].value_counts()/df.shape[0]"
   ]
  },
  {
   "cell_type": "code",
   "execution_count": null,
   "id": "d95d6d62-1779-4036-846b-3fec388ae896",
   "metadata": {},
   "outputs": [],
   "source": [
    "dfnl = df[df['CHART_WAFER3'].isna()]"
   ]
  },
  {
   "cell_type": "code",
   "execution_count": null,
   "id": "ded47734-8628-4552-bc8b-fe22d7f07777",
   "metadata": {},
   "outputs": [],
   "source": [
    "dfnl = dfnl[dfnl['CHART_PT_STATUS'] == 'V']"
   ]
  },
  {
   "cell_type": "code",
   "execution_count": null,
   "id": "6c7e3d48-7f77-4e76-897b-9ff3230011b4",
   "metadata": {},
   "outputs": [],
   "source": [
    "dfnl['colnames'] = dfnl['SPC_OPERATION'] + '`' + dfnl['TEST_NAME'] + '`' + dfnl['MONITOR_SET_NAME'] + '`' + dfnl['MEASUREMENT_SET_NAME'] + '`' + dfnl['SPC_CHART_CATEGORY'] + '`' + dfnl['SPC_CHART_SUBSET'] + '`' + dfnl['CHART_TYPE'] + '`' + dfnl['PARAMETER_CLASS'] + '`' + dfnl['CHART_ON']\n",
    "#dfnl.pivot(index=['LOT7'], columns='colnames', values = 'CHART_VALUE')"
   ]
  },
  {
   "cell_type": "code",
   "execution_count": null,
   "id": "22b3448f-743e-4be9-b5e4-0cdb2c3aaf35",
   "metadata": {},
   "outputs": [],
   "source": [
    "sub = dfnl.groupby(['LOT7', 'colnames']).size()"
   ]
  },
  {
   "cell_type": "code",
   "execution_count": null,
   "id": "7c821c71-a6fb-47f1-9ea6-cb0e0d653aad",
   "metadata": {},
   "outputs": [],
   "source": [
    "r = sub[sub > 1].reset_index()\n",
    "#sub[sub['count']>1].head()"
   ]
  },
  {
   "cell_type": "code",
   "execution_count": null,
   "id": "20623ed6-ee27-42c1-8904-cb49b561735d",
   "metadata": {},
   "outputs": [],
   "source": [
    "dup = dfnl[dfnl['colnames'].isin(r['colnames'].unique())]"
   ]
  },
  {
   "cell_type": "code",
   "execution_count": null,
   "id": "21a88496-5a25-4571-aed5-b3e7f8fd31da",
   "metadata": {},
   "outputs": [],
   "source": [
    "dup['CHART_VALUE']"
   ]
  },
  {
   "cell_type": "code",
   "execution_count": null,
   "id": "9121966c-187d-4947-94ae-0bbad581c966",
   "metadata": {},
   "outputs": [],
   "source": [
    "dup['colnames'].unique().size, dfnl['colnames'].unique().size"
   ]
  },
  {
   "cell_type": "code",
   "execution_count": null,
   "id": "1c9f920a-9562-4093-abf2-3dd94d153ae0",
   "metadata": {},
   "outputs": [],
   "source": [
    "m = dup.iloc[1] != dup.iloc[0]\n",
    "print(m)"
   ]
  },
  {
   "cell_type": "code",
   "execution_count": null,
   "id": "862eb267-080b-4a5c-bfad-b9837dca2e20",
   "metadata": {},
   "outputs": [],
   "source": [
    "dup.iloc[1][m], dup.iloc[0][m]"
   ]
  },
  {
   "cell_type": "code",
   "execution_count": null,
   "id": "e88d83f0-2c70-4ca3-b169-952fbca88d95",
   "metadata": {},
   "outputs": [],
   "source": [
    "df = pd.read_sql(\"select * from p_spc_session LIMIT 10\", con)"
   ]
  },
  {
   "cell_type": "code",
   "execution_count": null,
   "id": "a634e153-ba0f-4a2e-82b6-baf8e25c9720",
   "metadata": {},
   "outputs": [],
   "source": [
    "df.head()"
   ]
  },
  {
   "cell_type": "code",
   "execution_count": null,
   "id": "3260d548-9ddb-4993-b0d9-6167319d8e6f",
   "metadata": {},
   "outputs": [],
   "source": [
    "sql = f\"\"\"\n",
    "SELECT \n",
    "          a0.lot7 AS lot7\n",
    "         ,a0.devrevstep AS devrevstep\n",
    "         ,(SELECT lrc99.last_pass FROM F_LOT_RUN_CARD lrc99 where lrc99.lot =a0.lot AND lrc99.operation = a0.operation AND lrc99.site_prevout_date=a0.prev_moveout_time and rownum<=1) AS last_pass\n",
    "         ,a0.rework_latest_flag AS rework_latest_flag\n",
    "         ,a0.lot_rework_flag AS rework_flag\n",
    "         ,a1.entity AS entity\n",
    "         ,a1.ceid AS ceid\n",
    "         ,a2.monitor_set_name AS monitor_set_name\n",
    "         ,To_Char(a2.data_collection_time,'yyyy-mm-dd hh24:mi:ss') AS data_collect_date\n",
    "         ,a2.area AS area\n",
    "         ,a2.monitor_process AS process\n",
    "         ,a2.status AS mon_set_status\n",
    "         ,a2.spc_data_id AS spc_data_id\n",
    "         ,a2.violation_flag AS violation_flag\n",
    "         ,a2.latest_flag AS mon_set_latest_flag\n",
    "         ,a5.chart_point_seq AS chart_point_seq\n",
    "         ,a5.value AS chart_value\n",
    "         ,a5.process_chamber AS process_chamber\n",
    "         ,a5.wafer AS chart_wafer\n",
    "         ,a5.latest_flag AS chart_pt_latest_flag\n",
    "         ,a5.status AS chart_pt_status\n",
    "         ,a5.chart_type AS chart_type\n",
    "         ,a5.spc_chart_category AS spc_chart_category\n",
    "         ,a5.spc_chart_subset AS spc_chart_subset\n",
    "         ,a10.lo_control_lmt AS lo_control_lmt\n",
    "         ,a10.target AS target\n",
    "         ,a10.up_control_lmt AS up_control_lmt\n",
    "         ,a2.test_name AS test_name\n",
    "         ,a0.operation AS spc_operation\n",
    "         ,a5.wafer3 AS chart_wafer3\n",
    "         ,a2.monitor_type AS monitor_type\n",
    "         ,a3.parameter_class AS parameter_class\n",
    "         ,a9.chart_parameter AS chart_parameter\n",
    "         ,a9.chart_on AS chart_on\n",
    "         ,a3.measurement_set_name AS measurement_set_name\n",
    "         ,a0.load_date AS load_date\n",
    "FROM \n",
    "P_SPC_LOT a0\n",
    "LEFT JOIN P_SPC_ENTITY a1 ON a1.spcs_id = a0.spcs_id AND a1.entity_sequence=1\n",
    "INNER JOIN P_SPC_SESSION a2 ON a2.spcs_id = a0.spcs_id AND a2.data_collection_time = a0.data_collection_time\n",
    "INNER JOIN P_SPC_MEASUREMENT_SET a3 ON a3.spcs_id = a2.spcs_id\n",
    "LEFT JOIN P_SPC_CHART_POINT a5 ON a5.spcs_id = a3.spcs_id AND a5.measurement_set_name = a3.measurement_set_name\n",
    "LEFT JOIN P_SPC_CHART a9 ON a9.chart_id = a5.chart_id\n",
    "LEFT JOIN P_SPC_CHART_LIMIT a10 ON a10.chart_id = a5.chart_id AND a10.limit_id = a5.limit_id\n",
    "\n",
    "WHERE\n",
    "              SUBSTR(a0.devrevstep,1, 4) IN ('8PFU', '8PJS')\n",
    "AND      a0.LOAD_DATE > :START AND a0.LOAD_DATE <= :END\n",
    " AND      (SELECT lrc99.last_pass FROM F_LOT_RUN_CARD lrc99 where lrc99.lot =a0.lot AND lrc99.operation = a0.operation AND lrc99.site_prevout_date=a0.prev_moveout_time and rownum<=1) = 'Y' \n",
    " /*AND      a0.rework_latest_flag = 'Y'*/ \n",
    " AND      a3.valid_flag <> 'I' \n",
    " AND      a5.latest_flag = 'Y' \n",
    " AND      a3.latest_flag = 'Y' \n",
    " AND      a5.value is not NULL\n",
    "\n",
    "\"\"\""
   ]
  },
  {
   "cell_type": "code",
   "execution_count": null,
   "id": "92eebd50-918b-44fc-be07-e137e26464ea",
   "metadata": {},
   "outputs": [],
   "source": [
    "from datetime import datetime, timedelta\n",
    "df = pd.read_sql(sql, con, params={'START': (datetime.now() - timedelta(hours=2*24)), 'END':datetime.now()})"
   ]
  },
  {
   "cell_type": "code",
   "execution_count": null,
   "id": "536ea414-bd14-4a2f-a1d5-0a80fde94f0f",
   "metadata": {},
   "outputs": [],
   "source": [
    "df.head()"
   ]
  },
  {
   "cell_type": "code",
   "execution_count": null,
   "id": "14fdec97-884c-4b59-9d43-2eb85a7ca8ee",
   "metadata": {},
   "outputs": [],
   "source": [
    "def clean_dep_chamber(x):\n",
    "    if not isinstance(x, str):\n",
    "        return x\n",
    "    \n",
    "    xl = x.split(\";\")\n",
    "    xn = []\n",
    "    \n",
    "    for xi in xl:\n",
    "        if 'PROCESS_CHAMBER' in xi:\n",
    "            continue\n",
    "        else:\n",
    "            xn.append(xi)\n",
    "    return \";\".join(xn)\n",
    "\n",
    "df['chart_param_clean'] = df['CHART_PARAMETER'].apply(clean_dep_chamber)\n",
    "df['colnames'] = df['SPC_OPERATION'] + '`' + df['TEST_NAME'] + '`' + df['MONITOR_SET_NAME'] + '`' + df['MEASUREMENT_SET_NAME'] + '`' + df['chart_param_clean'] + '`' + df['PARAMETER_CLASS']\n"
   ]
  },
  {
   "cell_type": "code",
   "execution_count": null,
   "id": "d54fb563-b1e1-4647-a9b5-31a4bdae5be0",
   "metadata": {},
   "outputs": [],
   "source": [
    "names = df['colnames'][df['colnames'].str.contains(\"NMT\")].unique()"
   ]
  },
  {
   "cell_type": "code",
   "execution_count": null,
   "id": "3b626a21-d245-4fce-b178-33d9283ab0b3",
   "metadata": {},
   "outputs": [],
   "source": [
    "dfg = df.pivot_table(index = ['PROCESS', 'DEVREVSTEP', 'LOT7'], columns='colnames', values='CHART_VALUE').reset_index()"
   ]
  },
  {
   "cell_type": "code",
   "execution_count": null,
   "id": "e1733865-6170-486d-81c3-ba876ed1d3da",
   "metadata": {},
   "outputs": [],
   "source": [
    "(dfg.loc[:, names].notnull().sum()/dfg.shape[0]).sort_values()"
   ]
  },
  {
   "cell_type": "code",
   "execution_count": null,
   "id": "24cbea09-5fd1-473d-abc3-c0a373948ef9",
   "metadata": {},
   "outputs": [],
   "source": [
    "dfg.head()"
   ]
  },
  {
   "cell_type": "code",
   "execution_count": null,
   "id": "cec4517f-f946-4eed-a555-42e6303c0578",
   "metadata": {},
   "outputs": [],
   "source": [
    "[SPC-UPDATE-QUERY]\n",
    "#holdBack=-(2.0/24.0)\n",
    "\n",
    "  (select 0 as \"ZERO\" from dual) z\n",
    "  ?*LOT_EXISTS[ inner join p_spc_lot sl on ( ?*LOT[ sl.lot like substr('?*LOT', 1,7) || '%' ?*[ OR ] ] ) ]\n",
    "  inner join p_spc_session s\n",
    "  ?*LOT_EXISTS[ on s.spcs_id = sl.spcs_id ]\n",
    "  ?*DATEFROM[ on ?*QUERYTIME > to_date(substr('?*DATEFROM',1,19), 'YYYY-MM-DD-HH24-MI-SS') ?*/BUMP[ + 1.0/60.0/24.0/60.0 ] ?*/BACKWARDS[ - ?*MULTIPLIER[ ?*MULTIPLIER * ] ?*ITERATION ?*DAY[ * 1.0 ] ?*HOUR[ * 1.0/24.0 ] ?*MINUTE[ * 1.0/24.0/60.0 ] ] ]\n",
    "  ?*DATETO[ and ?*QUERYTIME <= to_date(substr('?*DATETO',1,19), 'YYYY-MM-DD-HH24-MI-SS.FF3') ]\n",
    "  ?*INTERVAL[ ?*DATEFROM[\n",
    "              AND ?*QUERYTIME < to_date(substr('?*DATEFROM',1,19), 'YYYY-MM-DD-HH24-MI-SS')  + ?*MULTIPLIER[ ?*MULTIPLIER * ] ?*ITERATION ?*DAY[ * 1.0 ] ?*HOUR[ * 1.0/24.0 ] ?*MINUTE[ * 1.0/24.0/60.0 ]\n",
    "              and ?*QUERYTIME < CURRENT_DATE ?*HOLDBACK -- ignore last period of time\n",
    "              ?*/BACKWARDS[ AND ?*QUERYTIME <= to_date(substr('?*DATEFROM',1,19), 'YYYY-MM-DD-HH24-MI-SS') ]\n",
    "              ] ]\n",
    "\n",
    "   -- ignore some things that were wrong to put in SPC...\n",
    "   and s.monitor_set_name not like 'ETT%'\n",
    "   and s.monitor_set_name not like 'SRAM_ETT%'\n",
    "   and s.monitor_set_name not like 'SDX%TRAY%MON'\n",
    "\n",
    "   inner join p_spc_lot bl\n",
    "    on bl.spcs_id = s.spcs_id\n",
    "  and bl.lot_process like '?*PROCESS'||'%'\n",
    "  and (substr(bl.product,1,1) in ( '8', 'B' )\n",
    "      ?*PRODUCT_EXISTS[ or ( ?*PRODUCT[ bl.product like '?*PRODUCT' ?*[ OR ] ] ) ]\n",
    "      )\n",
    "  and (bl.lot_type not in ( 'MW', 'SFD' )\n",
    "      ?*OWNER_EXISTS[ or ( ?*OWNER[ bl.lot_type like '?*OWNER' ?*[ OR ] ] ) ]\n",
    "      )\n",
    "  ?*LOT_EXISTS[ and bl.lot = sl.lot ]\n",
    "  ?*WCLOT_EXISTS[ and ( ?*WCLOT[ bl.lot like '?*WCLOT' ?*[ OR ] ] ) ]\n",
    "  ?*WCPRODUCT_EXISTS[ and ( ?*WCPRODUCT[ bl.product like '?*WCPRODUCT' ?*[ OR ] ] ) ]\n",
    "\n",
    "  ! allow for an operation filter for debug\n",
    "  ?*OPERATION_EXISTS[ and ( ?*OPERATION[ bl.operation like '?*OPERATION' ?*[ OR ] ] ) ]\n"
   ]
  },
  {
   "cell_type": "code",
   "execution_count": null,
   "id": "5cd61b03-a751-48b9-94e2-78f29ad097fd",
   "metadata": {},
   "outputs": [],
   "source": [
    "#XEUS-R Query\n",
    "sql = \"\"\"\n",
    "   select   /*+ use_nl(z s bl rs r)\n",
    "               index(s, X1P_SPC_SESSION)\n",
    "               index(bl, X4P_SPC_LOT)\n",
    "               index(rs, XUI_SPC_MEASUREMENT_SET)\n",
    "               index(r, X4P_SPC_MEASUREMENT)\n",
    "            */\n",
    "   substr(bl.lot,1,7)||'0' as \"LOT\"\n",
    "  ,bl.operation\n",
    "  ,bl.spcs_id as \"SPCS_ID_AS_DOUBLE\"\n",
    "\n",
    "  ,bl.lot as \"ATLOT\"\n",
    "  ,bl.MONITOR_SET_NAME\n",
    "  ,bl.TEST_NAME\n",
    "  ,bl.LOT_REWORK_FLAG\n",
    "  ,bl.REWORK_LATEST_FLAG\n",
    "  ,bl.PRODUCT\n",
    "  ,bl.LOT_TYPE as \"OWNER\"\n",
    "  ,bl.LOT_PROCESS as \"PROCESS\"\n",
    "\n",
    "  ,cast(s.LAST_UPDATE_TIME as date) as \"LAST_UPDATE_TIME\"\n",
    "  ,s.LATEST_FLAG\n",
    "  ,s.STATUS\n",
    "  ,s.HOLD_LOT_FLAG\n",
    "  ,s.CONFIRM_HOLD_LOT_FLAG\n",
    "  ,s.VIOLATION_FLAG\n",
    "\n",
    "  ,rs.MEASUREMENT_SET_NAME\n",
    "\n",
    "  ,rs.VALID_FLAG\n",
    "  ,rs.CORRECTED_FLAG\n",
    "  ,rs.STANDARD_FLAG\n",
    "  ,rs.PARAMETER_CLASS\n",
    "  ,rs.PARAMETER_HEADER\n",
    "\n",
    "  ,cast(r.DATA_COLLECTION_TIME as date) as \"DATA_COLLECTION_TIME\"\n",
    "  ,r.WAFER\n",
    "  ,r.VALUE\n",
    "  ,r.LIMITS_FLAG\n",
    "  ,r.S_INDEXVALUE\n",
    " ,r.EXPECTED_LOT\n",
    "  ,r.PARAMETER_NAME\n",
    "\n",
    "  ,r.ATTRIBUTE_ID as \"ATTRIBUTE_ID_AS_DOUBLE\"\n",
    "  ,r.CUSTOM_CONTEXT_GROUP_ID\n",
    "\n",
    "  ,r.measurement_id\n",
    "\n",
    "  ,r.WAFER_COORDINATE_X\n",
    "  ,r.WAFER_COORDINATE_Y\n",
    "\n",
    "  ,r.native_x as \"NATIVE_X_AS_DOUBLE\"\n",
    "  ,r.native_y as \"NATIVE_Y_AS_DOUBLE\"\n",
    "\n",
    "  ,r.WAFER_LOCATION\n",
    "\n",
    "  /*,cast(?*QUERYTIME as date) as \"QUERYTIME\"*/\n",
    "from\n",
    "\n",
    "  /*#INCLUDE=SPC-UPDATE-QUERY*/\n",
    "   p_spc_lot sl\n",
    "   inner join p_spc_session s on s.spcs_id = sl.spcs_id\n",
    "   inner join p_spc_lot bl on bl.spcs_id = s.spcs_id\n",
    "    \n",
    "   inner join p_spc_measurement_set rs on rs.spcs_id = s.spcs_id\n",
    "\n",
    "   inner join p_spc_measurement r\n",
    "    on r.spcs_id = rs.spcs_id\n",
    "   and r.measurement_set_name = rs.measurement_set_name\n",
    "\n",
    "   where s.LOAD_DATE > :START and s.LOAD_DATE < :END and substr(bl.product, 1, 4) in ('8PEH')\n",
    "\n",
    "/*order by bl.lot, r.EXPECTED_LOT, bl.operation*/\"\"\"\n"
   ]
  },
  {
   "cell_type": "code",
   "execution_count": null,
   "id": "eaff45dd-0ec7-4e22-b290-613776368d2a",
   "metadata": {},
   "outputs": [],
   "source": [
    "df = pd.read_sql(sql, con, params={'START': (datetime.now() - timedelta(days=1)), 'END':datetime.now()})"
   ]
  },
  {
   "cell_type": "code",
   "execution_count": null,
   "id": "0c25b2bd-f389-4576-b338-3971a4fa16d9",
   "metadata": {},
   "outputs": [],
   "source": [
    "df.columns"
   ]
  },
  {
   "cell_type": "code",
   "execution_count": null,
   "id": "dd64587f-cae7-4551-a30e-af3f37748444",
   "metadata": {},
   "outputs": [],
   "source": [
    "df.head()"
   ]
  },
  {
   "cell_type": "code",
   "execution_count": null,
   "id": "93d506dd-1034-440d-b439-b87dda948730",
   "metadata": {},
   "outputs": [],
   "source": [
    "df['colsnames'] = df['OPERATION'] + '`' + df['TEST_NAME'] + \"`\" + df['MONITOR_SET_NAME'] + \"`\" + df['MEASUREMENT_SET_NAME'] + '`' + df['PARAMETER_NAME'] + '`' + df['PARAMETER_CLASS']"
   ]
  },
  {
   "cell_type": "code",
   "execution_count": null,
   "id": "f7d4855b-beb4-438f-9655-e066ea87443f",
   "metadata": {},
   "outputs": [],
   "source": [
    "df1 = df.groupby(['LOT', 'WAFER', 'OPERATION', 'TEST_NAME', 'MONITOR_SET_NAME', 'MEASUREMENT_SET_NAME', 'PARAMETER_NAME', 'PARAMETER_CLASS']).agg(VALUE = pd.NamedAgg(column='VALUE', aggfunc=np.mean))\n",
    "\n",
    "dfg = df.pivot_table(index=['LOT', 'WAFER'], columns='colsnames', values='VALUE')"
   ]
  },
  {
   "cell_type": "code",
   "execution_count": null,
   "id": "fc2c8da4-186c-4e65-ba45-c6d907596e0d",
   "metadata": {},
   "outputs": [],
   "source": [
    "df1.head()"
   ]
  },
  {
   "cell_type": "code",
   "execution_count": null,
   "id": "60fffe63-441f-4686-94b2-7b9fb0de343f",
   "metadata": {},
   "outputs": [],
   "source": [
    "df1 = df1.groupby(['LOT', 'WAFER', 'OPERATION', 'TEST_NAME', 'MONITOR_SET_NAME', 'MEASUREMENT_SET_NAME', 'PARAMETER_NAME', 'PARAMETER_CLASS'])['VALUE'].transform(lambda x: x.fillna(x.mean()))"
   ]
  },
  {
   "cell_type": "code",
   "execution_count": null,
   "id": "4c1bc222-d75f-46d9-bac1-503fabffb4a3",
   "metadata": {},
   "outputs": [],
   "source": [
    "df1 = df1.reset_index()"
   ]
  },
  {
   "cell_type": "code",
   "execution_count": null,
   "id": "26aa0887-d510-4a36-93d1-b3677066634b",
   "metadata": {},
   "outputs": [],
   "source": [
    "df1['colsnames'] = df1['OPERATION'] + '`' + df1['TEST_NAME'] + \"`\" + df1['MONITOR_SET_NAME'] + \"`\" + df1['MEASUREMENT_SET_NAME'] + '`' + df1['PARAMETER_NAME'] + '`' + df1['PARAMETER_CLASS']"
   ]
  },
  {
   "cell_type": "code",
   "execution_count": null,
   "id": "b5445644-3f27-4e11-a0f3-2ae0f84699b3",
   "metadata": {},
   "outputs": [],
   "source": [
    "df1 = df1.pivot_table(index=['LOT', 'WAFER'], columns='colsnames', values='VALUE')"
   ]
  },
  {
   "cell_type": "code",
   "execution_count": null,
   "id": "8ab4679f-d9d9-4847-b917-7460489585c5",
   "metadata": {},
   "outputs": [],
   "source": [
    "(df1.notnull().sum()/df1.shape[0]).sort_values()"
   ]
  },
  {
   "cell_type": "code",
   "execution_count": null,
   "id": "e04ce887-6b15-454a-9517-cbc07b45033a",
   "metadata": {},
   "outputs": [],
   "source": [
    "dfg2 = dfg.groupby(by=['LOT']).transform(lambda x: x.fillna(x.mean()))"
   ]
  },
  {
   "cell_type": "code",
   "execution_count": null,
   "id": "7ccab107-0b1f-485a-8107-94fe5c31bed4",
   "metadata": {},
   "outputs": [],
   "source": [
    "(dfg.notnull().sum()/dfg.shape[0]).sort_values()"
   ]
  },
  {
   "cell_type": "code",
   "execution_count": null,
   "id": "e84f7be5-bf1b-4e74-b7e9-7515913b414c",
   "metadata": {},
   "outputs": [],
   "source": [
    "(dfg2.notnull().sum()/dfg2.shape[0]).sort_values()"
   ]
  }
 ],
 "metadata": {
  "kernelspec": {
   "display_name": "Python 3 (ipykernel)",
   "language": "python",
   "name": "python3"
  },
  "language_info": {
   "codemirror_mode": {
    "name": "ipython",
    "version": 3
   },
   "file_extension": ".py",
   "mimetype": "text/x-python",
   "name": "python",
   "nbconvert_exporter": "python",
   "pygments_lexer": "ipython3",
   "version": "3.10.4"
  }
 },
 "nbformat": 4,
 "nbformat_minor": 5
}
