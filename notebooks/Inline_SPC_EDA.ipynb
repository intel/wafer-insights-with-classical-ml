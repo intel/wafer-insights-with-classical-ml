{
 "cells": [
  {
   "cell_type": "code",
   "execution_count": null,
   "id": "b3299541-8fc6-45de-8325-72bc8650fcf4",
   "metadata": {},
   "outputs": [],
   "source": [
    "import pandas as pd\n",
    "import numpy as np\n",
    "import PyUber"
   ]
  },
  {
   "cell_type": "code",
   "execution_count": null,
   "id": "6490676c-58b1-430c-ab45-034dfd95330e",
   "metadata": {},
   "outputs": [],
   "source": [
    "sql = r\"\"\"SELECT \n",
    "          a0.lot7 AS lot7\n",
    "         ,a0.devrevstep AS devrevstep\n",
    "         ,(SELECT lrc99.last_pass FROM F_LOT_RUN_CARD lrc99 where lrc99.lot =a0.lot AND lrc99.operation = a0.operation AND lrc99.site_prevout_date=a0.prev_moveout_time and rownum<=1) AS last_pass\n",
    "         ,a0.rework_latest_flag AS rework_latest_flag\n",
    "         ,a0.lot_rework_flag AS rework_flag\n",
    "         ,a1.entity AS entity\n",
    "         ,a1.ceid AS ceid\n",
    "         ,a2.monitor_set_name AS monitor_set_name\n",
    "         ,To_Char(a2.data_collection_time,'yyyy-mm-dd hh24:mi:ss') AS data_collect_date\n",
    "         ,a2.area AS area\n",
    "         ,a2.monitor_process AS monitor_process\n",
    "         ,a2.status AS mon_set_status\n",
    "         ,a2.spc_data_id AS spc_data_id\n",
    "         ,a2.violation_flag AS violation_flag\n",
    "         ,a2.latest_flag AS mon_set_latest_flag\n",
    "         ,a5.chart_point_seq AS chart_point_seq\n",
    "         ,a5.value AS chart_value\n",
    "         ,a5.process_chamber AS process_chamber\n",
    "         ,a5.wafer AS chart_wafer\n",
    "         ,a5.latest_flag AS chart_pt_latest_flag\n",
    "         ,a5.status AS chart_pt_status\n",
    "         ,a5.chart_type AS chart_type\n",
    "         ,a5.spc_chart_category AS spc_chart_category\n",
    "         ,a5.spc_chart_subset AS spc_chart_subset\n",
    "         ,a10.lo_control_lmt AS lo_control_lmt\n",
    "         ,a10.target AS target\n",
    "         ,a10.up_control_lmt AS up_control_lmt\n",
    "         ,a2.test_name AS test_name\n",
    "         ,a0.operation AS spc_operation\n",
    "         ,a5.wafer3 AS chart_wafer3\n",
    "         ,a2.monitor_type AS monitor_type\n",
    "         ,a3.parameter_class AS parameter_class\n",
    "         ,a9.chart_parameter AS chart_parameter\n",
    "         ,a9.chart_on AS chart_on\n",
    "         ,a3.measurement_set_name AS measurement_set_name\n",
    "         ,a11.\n",
    "FROM \n",
    "P_SPC_LOT a0\n",
    "LEFT JOIN P_SPC_ENTITY a1 ON a1.spcs_id = a0.spcs_id AND a1.entity_sequence=1\n",
    "INNER JOIN P_SPC_SESSION a2 ON a2.spcs_id = a0.spcs_id AND a2.data_collection_time = a0.data_collection_time\n",
    "INNER JOIN P_SPC_MEASUREMENT_SET a3 ON a3.spcs_id = a2.spcs_id\n",
    "LEFT JOIN P_SPC_CHART_POINT a5 ON a5.spcs_id = a3.spcs_id AND a5.measurement_set_name = a3.measurement_set_name\n",
    "LEFT JOIN P_SPC_CHART a9 ON a9.chart_id = a5.chart_id\n",
    "LEFT JOIN P_SPC_CHART_LIMIT a10 ON a10.chart_id = a5.chart_id AND a10.limit_id = a5.limit_id\n",
    "LEFT JOIN P_SPC_CHARTPOINT_MEASUREMENT a11 ON a11.sps_it == a11.sps_id and a11.measurement_set_name == a4.measurement_set_name\n",
    "WHERE\n",
    "              a0.lot7 = 'L210060' \n",
    " AND      (SELECT lrc99.last_pass FROM F_LOT_RUN_CARD lrc99 where lrc99.lot =a0.lot AND lrc99.operation = a0.operation AND lrc99.site_prevout_date=a0.prev_moveout_time and rownum<=1) = 'Y' \n",
    " AND      a0.rework_latest_flag = 'Y' \n",
    " AND      a3.valid_flag <> 'I' \n",
    " AND      a5.latest_flag = 'Y' \n",
    " AND      a3.latest_flag = 'Y' \n",
    " AND      a5.value is not NULL\"\"\""
   ]
  },
  {
   "cell_type": "code",
   "execution_count": null,
   "id": "3edbe2a2-2aa2-4a35-abd4-5e8812fcf7c8",
   "metadata": {},
   "outputs": [],
   "source": [
    "sql2 = \"\"\"\n",
    "SELECT \n",
    "          a0.lot7 AS lot7\n",
    "         ,a0.lot_type AS lot_type\n",
    "         ,a0.lot_virtual_line AS lot_virtual_line\n",
    "         ,a0.operation AS spc_operation\n",
    "         ,a0.devrevstep AS devrevstep\n",
    "         ,To_Char(a0.data_collection_time,'yyyy-mm-dd hh24:mi:ss') AS lot_data_collect_date\n",
    "         ,a1.entity AS entity\n",
    "         ,To_Char(a1.data_collection_time,'yyyy-mm-dd hh24:mi:ss') AS entity_data_collect_date\n",
    "         ,a1.entity_sequence AS entity_sequence\n",
    "         ,a2.monitor_set_name AS monitor_set_name\n",
    "         ,a3.measurement_set_name AS measurement_set_name\n",
    "         ,a2.test_name AS test_name\n",
    "         ,a2.spc_data_id AS spc_data_id\n",
    "         ,a5.chart_type AS chart_type\n",
    "         ,a5.spc_chart_category AS spc_chart_category\n",
    "         ,a5.spc_chart_subset AS spc_chart_subset\n",
    "         ,a5.value AS chart_value\n",
    "FROM \n",
    "P_SPC_LOT a0\n",
    "LEFT JOIN P_SPC_ENTITY a1 ON a1.spcs_id = a0.spcs_id AND a1.entity_sequence=1\n",
    "INNER JOIN P_SPC_SESSION a2 ON a2.spcs_id = a0.spcs_id AND a2.data_collection_time = a0.data_collection_time\n",
    "INNER JOIN P_SPC_MEASUREMENT_SET a3 ON a3.spcs_id = a2.spcs_id\n",
    "LEFT JOIN P_SPC_CHART_POINT a5 ON a5.spcs_id = a3.spcs_id AND a5.measurement_set_name = a3.measurement_set_name\n",
    "WHERE\n",
    "              (SELECT lrc99.last_pass FROM F_LOT_RUN_CARD lrc99 where lrc99.lot =a0.lot AND lrc99.operation = a0.operation AND lrc99.site_prevout_date=a0.prev_moveout_time and rownum<=1) = 'Y' \n",
    " AND      a3.latest_flag = 'Y' \n",
    " AND      a5.latest_flag = 'Y' \n",
    " AND      a0.data_collection_time >= (SYSDATE - 5/24) \n",
    " AND      a0.lot Like 'L%' \"\"\""
   ]
  },
  {
   "cell_type": "code",
   "execution_count": null,
   "id": "ba1b6ebf-9912-4eaf-b695-f7b513402d5b",
   "metadata": {},
   "outputs": [],
   "source": [
    "con = PyUber.connect(\"F32_PROD_XEUS\")"
   ]
  },
  {
   "cell_type": "code",
   "execution_count": null,
   "id": "b2a179d8-d076-4269-972d-c67eb96bcf68",
   "metadata": {},
   "outputs": [],
   "source": [
    "df = pd.read_sql(sql, con)"
   ]
  },
  {
   "cell_type": "code",
   "execution_count": null,
   "id": "11e40337-07a9-4111-adf2-e851e8613347",
   "metadata": {},
   "outputs": [],
   "source": [
    "df = df[df['MONITOR_TYPE'] == \"WIP MONITOR\"]\n"
   ]
  },
  {
   "cell_type": "code",
   "execution_count": null,
   "id": "e8768e04-cf19-4871-970a-bedcf57f4fab",
   "metadata": {},
   "outputs": [],
   "source": [
    "df['CHART_WAFER3'].value_counts()/df.shape[0]"
   ]
  },
  {
   "cell_type": "code",
   "execution_count": null,
   "id": "d95d6d62-1779-4036-846b-3fec388ae896",
   "metadata": {},
   "outputs": [],
   "source": [
    "dfnl = df[df['CHART_WAFER3'].isna()]"
   ]
  },
  {
   "cell_type": "code",
   "execution_count": null,
   "id": "ded47734-8628-4552-bc8b-fe22d7f07777",
   "metadata": {},
   "outputs": [],
   "source": [
    "dfnl = dfnl[dfnl['CHART_PT_STATUS'] == 'V']"
   ]
  },
  {
   "cell_type": "code",
   "execution_count": null,
   "id": "6c7e3d48-7f77-4e76-897b-9ff3230011b4",
   "metadata": {},
   "outputs": [],
   "source": [
    "dfnl['colnames'] = dfnl['SPC_OPERATION'] + '`' + dfnl['TEST_NAME'] + '`' + dfnl['MONITOR_SET_NAME'] + '`' + dfnl['MEASUREMENT_SET_NAME'] + '`' + dfnl['SPC_CHART_CATEGORY'] + '`' + dfnl['SPC_CHART_SUBSET'] + '`' + dfnl['CHART_TYPE'] + '`' + dfnl['PARAMETER_CLASS'] + '`' + dfnl['CHART_ON']\n",
    "#dfnl.pivot(index=['LOT7'], columns='colnames', values = 'CHART_VALUE')"
   ]
  },
  {
   "cell_type": "code",
   "execution_count": null,
   "id": "22b3448f-743e-4be9-b5e4-0cdb2c3aaf35",
   "metadata": {},
   "outputs": [],
   "source": [
    "sub = dfnl.groupby(['LOT7', 'colnames']).size()"
   ]
  },
  {
   "cell_type": "code",
   "execution_count": null,
   "id": "7c821c71-a6fb-47f1-9ea6-cb0e0d653aad",
   "metadata": {},
   "outputs": [],
   "source": [
    "r = sub[sub > 1].reset_index()\n",
    "#sub[sub['count']>1].head()"
   ]
  },
  {
   "cell_type": "code",
   "execution_count": null,
   "id": "20623ed6-ee27-42c1-8904-cb49b561735d",
   "metadata": {},
   "outputs": [],
   "source": [
    "dup = dfnl[dfnl['colnames'].isin(r['colnames'].unique())]"
   ]
  },
  {
   "cell_type": "code",
   "execution_count": null,
   "id": "21a88496-5a25-4571-aed5-b3e7f8fd31da",
   "metadata": {},
   "outputs": [],
   "source": [
    "dup['CHART_VALUE']"
   ]
  },
  {
   "cell_type": "code",
   "execution_count": null,
   "id": "9121966c-187d-4947-94ae-0bbad581c966",
   "metadata": {},
   "outputs": [],
   "source": [
    "dup['colnames'].unique().size, dfnl['colnames'].unique().size"
   ]
  },
  {
   "cell_type": "code",
   "execution_count": null,
   "id": "1c9f920a-9562-4093-abf2-3dd94d153ae0",
   "metadata": {},
   "outputs": [],
   "source": [
    "m = dup.iloc[1] != dup.iloc[0]\n",
    "print(m)"
   ]
  },
  {
   "cell_type": "code",
   "execution_count": null,
   "id": "862eb267-080b-4a5c-bfad-b9837dca2e20",
   "metadata": {},
   "outputs": [],
   "source": [
    "dup.iloc[1][m], dup.iloc[0][m]"
   ]
  },
  {
   "cell_type": "code",
   "execution_count": null,
   "id": "e88d83f0-2c70-4ca3-b169-952fbca88d95",
   "metadata": {},
   "outputs": [],
   "source": [
    "df = pd.read_sql(\"select * from P_SPC_CHARTPOINT_MEASUREMENT LIMIT 10\", con)"
   ]
  },
  {
   "cell_type": "code",
   "execution_count": null,
   "id": "3260d548-9ddb-4993-b0d9-6167319d8e6f",
   "metadata": {},
   "outputs": [],
   "source": [
    "df.dtypes"
   ]
  }
 ],
 "metadata": {
  "kernelspec": {
   "display_name": "Python 3 (ipykernel)",
   "language": "python",
   "name": "python3"
  },
  "language_info": {
   "codemirror_mode": {
    "name": "ipython",
    "version": 3
   },
   "file_extension": ".py",
   "mimetype": "text/x-python",
   "name": "python",
   "nbconvert_exporter": "python",
   "pygments_lexer": "ipython3",
   "version": "3.10.4"
  }
 },
 "nbformat": 4,
 "nbformat_minor": 5
}
